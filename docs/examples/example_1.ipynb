{
 "cells": [
  {
   "cell_type": "markdown",
   "metadata": {},
   "source": [
    "# Example 1\n",
    "## AutoSolar\n",
    "### Author: Felipe Bogaerts de Mattos\n",
    "### Email: me@felipebm.com\n",
    "\n",
    "All input values must be in STC and in standard metric units. "
   ]
  },
  {
   "cell_type": "code",
   "execution_count": null,
   "metadata": {},
   "outputs": [],
   "source": [
    "from auto_solar.modeler import Module, Inverter\n",
    "\n",
    "# Defining PV module:\n",
    "module = Module(\n",
    "    brand='Trina Solar',\n",
    "    model='TSM-410',\n",
    "    nominal_power=410,  # in Wp,\n",
    "    v_oc=50.0,\n",
    "    i_sc=10.25,\n",
    "    v_max=42.6,\n",
    "    i_max=9.63,\n",
    "    ppt=0.37,\n",
    "    efficiency=20.0,\n",
    "    area=2,\n",
    ")\n",
    "\n",
    "inverter = Inverter(\n",
    "    brand='Fronius',\n",
    "    model='PRIMO 5.0-1',\n",
    "    v_cc_max=1000,\n",
    "    voltage_range_mppt='240-800 V'\n",
    "    p_cc_max_input=7500,\n",
    "    v_cc_start=420,\n",
    "    i_cc_max=36,\n",
    "    string_count=2,\n",
    "    p_max=5000,\n",
    "    i_ca_max=20.8,\n",
    "    p_ca_nom=5000,\n",
    "    v_saida_nom=220,\n",
    "    freq=60,\n",
    "    eficiencia_mppt=0.99,\n",
    "    eficiencia_max=0.99,\n",
    "    weight=21.5,\n",
    "    dimensions='429x627x206',  # in mm\n",
    ")\n",
    "\n",
    "print(Module)\n",
    "print(Inverter)"
   ]
  }
 ],
 "metadata": {
  "language_info": {
   "name": "python"
  },
  "orig_nbformat": 4
 },
 "nbformat": 4,
 "nbformat_minor": 2
}
